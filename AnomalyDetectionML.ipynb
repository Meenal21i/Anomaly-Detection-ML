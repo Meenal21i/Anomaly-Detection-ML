{
 "cells": [
  {
   "cell_type": "code",
   "execution_count": 2,
   "id": "ded0b50c-2e69-4ffe-b550-3e9294b87960",
   "metadata": {},
   "outputs": [],
   "source": [
    "import pandas as pd"
   ]
  },
  {
   "cell_type": "code",
   "execution_count": 3,
   "id": "bcb1dcc1-3ea3-47c3-a191-b8fe186ada73",
   "metadata": {},
   "outputs": [],
   "source": [
    "train_df = pd.read_csv('train.csv')\n",
    "test_df = pd.read_csv('test.csv')"
   ]
  },
  {
   "cell_type": "code",
   "execution_count": 4,
   "id": "7f4e79a3-94bf-4b83-b215-a55ea61c6b5a",
   "metadata": {},
   "outputs": [
    {
     "data": {
      "text/plain": [
       "(    timestamp  value  is_anomaly  predicted\n",
       " 0  1425008573     42       False  44.072500\n",
       " 1  1425008873     41       False  50.709390\n",
       " 2  1425009173     41       False  81.405120\n",
       " 3  1425009473     61       False  39.950367\n",
       " 4  1425009773     44       False  35.350160,\n",
       "     timestamp  value  predicted\n",
       " 0  1396332000   20.0       20.0\n",
       " 1  1396332300   20.0       20.0\n",
       " 2  1396332600   20.0       20.0\n",
       " 3  1396332900   20.0       20.0\n",
       " 4  1396333200   20.0       20.0)"
      ]
     },
     "execution_count": 4,
     "metadata": {},
     "output_type": "execute_result"
    }
   ],
   "source": [
    "train_df.head() , test_df.head()"
   ]
  },
  {
   "cell_type": "code",
   "execution_count": 6,
   "id": "3e1aa986-8c1b-475a-b30b-3b3fa713ba71",
   "metadata": {},
   "outputs": [
    {
     "data": {
      "text/plain": [
       "count    15830.000000\n",
       "mean        85.572205\n",
       "std        321.760918\n",
       "min          0.000000\n",
       "25%         29.000000\n",
       "50%         47.000000\n",
       "75%         76.000000\n",
       "max      13479.000000\n",
       "Name: value, dtype: float64"
      ]
     },
     "execution_count": 6,
     "metadata": {},
     "output_type": "execute_result"
    }
   ],
   "source": [
    "stats = train_df['value'].describe()\n",
    "stats"
   ]
  },
  {
   "cell_type": "code",
   "execution_count": 10,
   "id": "42fded84-36af-44c1-8c92-e2828b241d69",
   "metadata": {},
   "outputs": [
    {
     "name": "stdout",
     "output_type": "stream",
     "text": [
      "4.90%\n"
     ]
    }
   ],
   "source": [
    "anomaly_proportion = train_df['is_anomaly'].mean()\n",
    "print(f'{anomaly_proportion:.2%}')"
   ]
  },
  {
   "cell_type": "code",
   "execution_count": 12,
   "id": "a74dd090-9c58-402b-a6e3-6608e892e34a",
   "metadata": {},
   "outputs": [
    {
     "name": "stdout",
     "output_type": "stream",
     "text": [
      "0.45\n"
     ]
    }
   ],
   "source": [
    "correlation = train_df[['value', 'predicted']].corr().iloc[0, 1]\n",
    "print(f'{correlation:.2f}')"
   ]
  },
  {
   "cell_type": "code",
   "execution_count": 13,
   "id": "5deaf519-127d-46e0-aa2f-2c11434ba296",
   "metadata": {},
   "outputs": [],
   "source": [
    "from sklearn.model_selection import train_test_split\n",
    "\n",
    "# Features and target\n",
    "X_train = train_df[['value', 'predicted']]\n",
    "y_train = train_df['is_anomaly']\n",
    "\n",
    "# Splitting the training data into train and validation sets\n",
    "X_train, X_val, y_train, y_val = train_test_split(X_train, y_train, test_size=0.2, random_state=42)\n"
   ]
  },
  {
   "cell_type": "code",
   "execution_count": 14,
   "id": "ce6a5a82-d007-4568-b273-97ef941297f1",
   "metadata": {},
   "outputs": [
    {
     "name": "stderr",
     "output_type": "stream",
     "text": [
      "C:\\Users\\user\\anaconda3\\Lib\\site-packages\\sklearn\\base.py:439: UserWarning: X does not have valid feature names, but IsolationForest was fitted with feature names\n",
      "  warnings.warn(\n"
     ]
    },
    {
     "name": "stdout",
     "output_type": "stream",
     "text": [
      "              precision    recall  f1-score   support\n",
      "\n",
      "       False       0.96      0.97      0.97      2997\n",
      "        True       0.38      0.30      0.33       169\n",
      "\n",
      "    accuracy                           0.94      3166\n",
      "   macro avg       0.67      0.63      0.65      3166\n",
      "weighted avg       0.93      0.94      0.93      3166\n",
      "\n"
     ]
    }
   ],
   "source": [
    "from sklearn.ensemble import IsolationForest\n",
    "from sklearn.metrics import classification_report\n",
    "\n",
    "# Initializing the model\n",
    "model = IsolationForest(contamination=anomaly_proportion, random_state=42)\n",
    "\n",
    "# Training the model\n",
    "model.fit(X_train)\n",
    "\n",
    "# Predicting on validation set\n",
    "y_val_pred = model.predict(X_val)\n",
    "# Converting predictions to binary (1 for anomaly, 0 for normal)\n",
    "y_val_pred = [1 if x == -1 else 0 for x in y_val_pred]\n",
    "\n",
    "# Evaluating the model\n",
    "print(classification_report(y_val, y_val_pred))\n"
   ]
  },
  {
   "cell_type": "code",
   "execution_count": 16,
   "id": "5a1b15d7-ca1d-4e32-b9f8-5489722a7da4",
   "metadata": {},
   "outputs": [],
   "source": [
    "# Predicting on the test set\n",
    "X_test = test_df[['value', 'predicted']]\n",
    "test_predictions = model.predict(X_test)\n",
    "# Converting predictions to binary (1 for anomaly, 0 for normal)\n",
    "test_predictions = [1 if x == -1 else 0 for x in test_predictions]\n",
    "\n",
    "# Creating submission DataFrame\n",
    "submission_df = test_df[['timestamp']].copy()\n",
    "submission_df['is_anomaly'] = test_predictions\n",
    "\n",
    "# Saving the submission file\n",
    "submission_df.to_csv('Submission.csv', index=False)\n"
   ]
  },
  {
   "cell_type": "code",
   "execution_count": null,
   "id": "bcadd037-c667-4e1d-8cf1-ded2cab362b1",
   "metadata": {},
   "outputs": [],
   "source": []
  }
 ],
 "metadata": {
  "kernelspec": {
   "display_name": "Python 3 (ipykernel)",
   "language": "python",
   "name": "python3"
  },
  "language_info": {
   "codemirror_mode": {
    "name": "ipython",
    "version": 3
   },
   "file_extension": ".py",
   "mimetype": "text/x-python",
   "name": "python",
   "nbconvert_exporter": "python",
   "pygments_lexer": "ipython3",
   "version": "3.11.7"
  }
 },
 "nbformat": 4,
 "nbformat_minor": 5
}
